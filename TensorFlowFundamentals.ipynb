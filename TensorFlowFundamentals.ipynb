{
  "nbformat": 4,
  "nbformat_minor": 0,
  "metadata": {
    "colab": {
      "provenance": []
    },
    "kernelspec": {
      "name": "python3",
      "display_name": "Python 3"
    },
    "language_info": {
      "name": "python"
    }
  },
  "cells": [
    {
      "cell_type": "markdown",
      "source": [
        "# Theoretical Questions"
      ],
      "metadata": {
        "id": "DHVWP_z44S4S"
      }
    },
    {
      "cell_type": "markdown",
      "source": [
        "## Q1. What are the different data structures used in Tensorflow? Give some examples"
      ],
      "metadata": {
        "id": "kM1jRrB44ezB"
      }
    },
    {
      "cell_type": "markdown",
      "source": [
        "Ans = TensorFlow is a deep learning framework which primarily operates on tensors, which are multi-dimensional arrays.TensorFlow also provides various data structures and abstractions for handling and manipulating data and some of the commonly used data structures are :\n",
        "\n",
        "1. **Tensors**: Tensors are the fundamental data structure in TensorFlow. They can be of different ranks (0D, 1D, 2D, 3D, etc.) and are similar to multi-dimensional arrays. Tensors can hold numerical data, and they are used for input data, model parameters, and output predictions.\n",
        "\n",
        "2. **Variables**: TensorFlow Variables are used to hold and update model parameters during training. Unlike constants, variables can be modified and updated during training iterations.\n",
        "\n",
        "3. **Sparse Tensors**: Sparse tensors are used to represent tensors with a large number of elements that are mostly zero. They are memory-efficient and can speed up certain operations, such as gradient computation in sparse neural networks.\n",
        "\n",
        "4. **Ragged Tensors**: Ragged tensors are used to represent data with varying lengths, such as sequences of variable-length sentences or lists of different-sized feature vectors.\n",
        "\n",
        "\n",
        "5. **Tensor Arrays**: Tensor arrays are TensorFlow data structures that allow dynamic and varying-sized tensors to be constructed iteratively. They are often used in dynamic RNNs and custom training loops.\n",
        "\n",
        "\n",
        "6. **Queues**: TensorFlow provides several queue implementations for managing data input pipelines. These are used in multi-threaded data loading scenarios."
      ],
      "metadata": {
        "id": "FjQ3F2Ur4hfJ"
      }
    },
    {
      "cell_type": "code",
      "source": [
        "#Implementation of Tensorflow Data Structures\n",
        "import tensorflow as tf\n",
        "\n",
        "# Creating tensors\n",
        "scalar = tf.constant(5)  # 0D tensor (scalar)\n",
        "vector = tf.constant([1, 2, 3])  # 1D tensor (vector)\n",
        "matrix = tf.constant([[1, 2], [3, 4]])  # 2D tensor (matrix)\n",
        "\n",
        "scalar , vector , matrix"
      ],
      "metadata": {
        "colab": {
          "base_uri": "https://localhost:8080/"
        },
        "id": "mJlYEvlL4cxG",
        "outputId": "8951f245-d274-4181-baf1-35705db00f56"
      },
      "execution_count": 1,
      "outputs": [
        {
          "output_type": "execute_result",
          "data": {
            "text/plain": [
              "(<tf.Tensor: shape=(), dtype=int32, numpy=5>,\n",
              " <tf.Tensor: shape=(3,), dtype=int32, numpy=array([1, 2, 3], dtype=int32)>,\n",
              " <tf.Tensor: shape=(2, 2), dtype=int32, numpy=\n",
              " array([[1, 2],\n",
              "        [3, 4]], dtype=int32)>)"
            ]
          },
          "metadata": {},
          "execution_count": 1
        }
      ]
    },
    {
      "cell_type": "code",
      "source": [
        "# Creating a variable\n",
        "weights = tf.Variable(tf.random.normal(shape=(3, 3)))\n",
        "weights"
      ],
      "metadata": {
        "colab": {
          "base_uri": "https://localhost:8080/"
        },
        "id": "DiWU2J014lq_",
        "outputId": "2c474691-6e3f-4a1c-cb09-de26c19ce4f6"
      },
      "execution_count": 2,
      "outputs": [
        {
          "output_type": "execute_result",
          "data": {
            "text/plain": [
              "<tf.Variable 'Variable:0' shape=(3, 3) dtype=float32, numpy=\n",
              "array([[ 1.1978294 ,  0.11992202, -0.4396341 ],\n",
              "       [ 2.0397694 ,  1.2901398 ,  0.18317275],\n",
              "       [ 0.88909197, -0.69355637,  1.0056188 ]], dtype=float32)>"
            ]
          },
          "metadata": {},
          "execution_count": 2
        }
      ]
    },
    {
      "cell_type": "code",
      "source": [
        "# Creating a sparse tensor\n",
        "indices = tf.constant([[0, 1], [2, 3]],dtype=tf.int64)\n",
        "values = tf.constant([4.0, 5.0])\n",
        "shape = tf.constant([3, 4],dtype=tf.int64)\n",
        "sparse_tensor = tf.sparse.SparseTensor(indices, values, shape)\n",
        "\n",
        "indices , values , shape , sparse_tensor"
      ],
      "metadata": {
        "colab": {
          "base_uri": "https://localhost:8080/"
        },
        "id": "xg2yrFmh4u4V",
        "outputId": "f5635258-ece3-43e2-8c7c-fe75b0517319"
      },
      "execution_count": 3,
      "outputs": [
        {
          "output_type": "execute_result",
          "data": {
            "text/plain": [
              "(<tf.Tensor: shape=(2, 2), dtype=int64, numpy=\n",
              " array([[0, 1],\n",
              "        [2, 3]])>,\n",
              " <tf.Tensor: shape=(2,), dtype=float32, numpy=array([4., 5.], dtype=float32)>,\n",
              " <tf.Tensor: shape=(2,), dtype=int64, numpy=array([3, 4])>,\n",
              " SparseTensor(indices=tf.Tensor(\n",
              " [[0 1]\n",
              "  [2 3]], shape=(2, 2), dtype=int64), values=tf.Tensor([4. 5.], shape=(2,), dtype=float32), dense_shape=tf.Tensor([3 4], shape=(2,), dtype=int64)))"
            ]
          },
          "metadata": {},
          "execution_count": 3
        }
      ]
    },
    {
      "cell_type": "code",
      "source": [
        "# Creating a ragged tensor\n",
        "ragged_tensor = tf.ragged.constant([[1, 2], [3, 4, 5], [6]])\n",
        "ragged_tensor"
      ],
      "metadata": {
        "colab": {
          "base_uri": "https://localhost:8080/"
        },
        "id": "Uusqv5Wm4xF1",
        "outputId": "5e80e4f0-4573-4591-c4c9-1048a8888474"
      },
      "execution_count": 4,
      "outputs": [
        {
          "output_type": "execute_result",
          "data": {
            "text/plain": [
              "<tf.RaggedTensor [[1, 2], [3, 4, 5], [6]]>"
            ]
          },
          "metadata": {},
          "execution_count": 4
        }
      ]
    },
    {
      "cell_type": "code",
      "source": [
        "# Creating a tensor array\n",
        "tensor_array = tf.TensorArray(dtype=tf.float32, size=0, dynamic_size=True)\n",
        "tensor_array"
      ],
      "metadata": {
        "colab": {
          "base_uri": "https://localhost:8080/"
        },
        "id": "EN8MQC834zBU",
        "outputId": "466605b0-8446-48dd-f02d-ccc575ce16ef"
      },
      "execution_count": 5,
      "outputs": [
        {
          "output_type": "execute_result",
          "data": {
            "text/plain": [
              "<tensorflow.python.ops.tensor_array_ops.TensorArray at 0x7c1584509060>"
            ]
          },
          "metadata": {},
          "execution_count": 5
        }
      ]
    },
    {
      "cell_type": "code",
      "source": [
        "# Creating a FIFO queue\n",
        "queue = tf.queue.FIFOQueue(capacity=10, dtypes=tf.float32)\n",
        "queue"
      ],
      "metadata": {
        "colab": {
          "base_uri": "https://localhost:8080/"
        },
        "id": "Hgqhn3BU4020",
        "outputId": "456dfef9-0c90-4b08-f9d1-b7117d992d7d"
      },
      "execution_count": 6,
      "outputs": [
        {
          "output_type": "execute_result",
          "data": {
            "text/plain": [
              "<tensorflow.python.ops.data_flow_ops.FIFOQueue at 0x7c1584862dd0>"
            ]
          },
          "metadata": {},
          "execution_count": 6
        }
      ]
    },
    {
      "cell_type": "markdown",
      "source": [
        "## Q2. How does the TensorFlow constant differ from a TensorFlow variable? Explain with an example\n",
        "\n",
        "Ans = 1. **TensorFlow Constants**:\n",
        "\n",
        "   - Constants are used to represent fixed values in TensorFlow.\n",
        "   - Once you create a constant, its value cannot be changed. It remains constant throughout the execution of the program.\n",
        "   - Constants are typically used for values that should not be modified during training, such as hyperparameters or fixed input data.\n",
        "   - They are stored in memory, but their values do not get updated during training.\n",
        "\n",
        "   \n",
        "\n",
        "2. **TensorFlow Variables**:\n",
        "\n",
        "   - Variables are used to represent modifiable tensors in TensorFlow.\n",
        "   - Variables are commonly used to store and update model parameters (weights and biases) during training.\n",
        "   - Unlike constants, the values of variables can be changed using operations like `assign` or by training them using optimization algorithms.\n",
        "   - Variables are usually initialized with initial values, and their values evolve during training.\n",
        "\n",
        "The key difference between TensorFlow constants and variables is that constants have fixed values that do not change during execution, while variables are mutable and can change their values over time, making them suitable for representing model parameters during training."
      ],
      "metadata": {
        "id": "bUZbJ8D-45XH"
      }
    },
    {
      "cell_type": "code",
      "source": [
        "#Example of a TensorFlow constant\n",
        "\n",
        "import tensorflow as tf\n",
        "\n",
        "# Creating a TensorFlow constant\n",
        "constant_tensor = tf.constant([1, 2, 3])\n",
        "\n",
        "try:\n",
        "  constant_tensor.assign([4, 5, 6])\n",
        "  print(\"Try Block is Executed !!\")\n",
        "\n",
        "except Exception as e:\n",
        "  print(\"Error !! Attempting to change the value of a constant\")"
      ],
      "metadata": {
        "colab": {
          "base_uri": "https://localhost:8080/"
        },
        "id": "oW088CxQ420s",
        "outputId": "1a683048-bb73-40ca-e98d-96cddbfd8193"
      },
      "execution_count": 7,
      "outputs": [
        {
          "output_type": "stream",
          "name": "stdout",
          "text": [
            "Error !! Attempting to change the value of a constant\n"
          ]
        }
      ]
    },
    {
      "cell_type": "code",
      "source": [
        "#Example of a TensorFlow Varibale\n",
        "\n",
        "import tensorflow as tf\n",
        "\n",
        "# Creating a TensorFlow variable\n",
        "initial_values = tf.constant([1, 2, 3])\n",
        "variable_tensor = tf.Variable(initial_values)\n",
        "\n",
        "try:\n",
        "\n",
        "  # Modifying the value of a variable\n",
        "  new_values = tf.constant([4, 5, 6])\n",
        "  variable_tensor.assign(new_values)\n",
        "  print(\"Try Block is Executed !!\")\n",
        "  # Print the updated variable\n",
        "  print(variable_tensor.numpy())\n",
        "\n",
        "except Exception as e:\n",
        "  print(\"Except Block is Executed !!\")"
      ],
      "metadata": {
        "colab": {
          "base_uri": "https://localhost:8080/"
        },
        "id": "u0ntxtyw5CNs",
        "outputId": "52da3939-1fcb-40f6-c2cc-277cda4c32c8"
      },
      "execution_count": 8,
      "outputs": [
        {
          "output_type": "stream",
          "name": "stdout",
          "text": [
            "Try Block is Executed !!\n",
            "[4 5 6]\n"
          ]
        }
      ]
    },
    {
      "cell_type": "code",
      "source": [],
      "metadata": {
        "id": "y_PIGG955En0"
      },
      "execution_count": null,
      "outputs": []
    },
    {
      "cell_type": "markdown",
      "source": [
        "## Q3. Describe the process of matrix addition, multiplication, and element-wise operations in TensorFlow.\n",
        "\n",
        "Ans = These are fundamental operations in TensorFlow for working with matrices and tensors:\n",
        "\n",
        "1. **Matrix Addition**:\n",
        "\n",
        "   Matrix addition in TensorFlow is performed using the tf.add or simply the + operator. It adds corresponding elements of two tensors of the same shape. The tensors being added must have compatible shapes (same number of rows and columns).\n",
        "\n",
        "2. **Matrix Multiplication**:\n",
        "\n",
        "   Matrix multiplication in TensorFlow is performed using the tf.matmul function. This operation computes the dot product of two matrices. The inner dimensions of the matrices must match for matrix multiplication to be valid.\n",
        "\n",
        "3. **Element-Wise Operations**:\n",
        "\n",
        "   Element-wise operations in TensorFlow involve applying an operation to each element of a tensor independently. Common element-wise operations include addition, subtraction, multiplication, division, and more. These operations can be performed using standard Python operators or TensorFlow functions like tf.add, tf.subtract, tf.multiply, and tf.divide."
      ],
      "metadata": {
        "id": "5lKGkOMQ5Gh3"
      }
    },
    {
      "cell_type": "code",
      "source": [
        "import tensorflow as tf\n",
        "\n",
        "# Create two matrices\n",
        "matrix1 = tf.constant([[1, 2], [3, 4]])\n",
        "matrix2 = tf.constant([[5, 6], [7, 8]])\n",
        "\n",
        "# Perform matrix addition using add function\n",
        "result_matrix = tf.add(matrix1, matrix2)\n",
        "# Perform matrix addition using + operator\n",
        "result_matrixx = matrix1 + matrix2\n",
        "\n",
        "# Print the result\n",
        "print(f\"Matrix 1 : \\n\\n{matrix1.numpy()}\")\n",
        "print(f\"\\nMatrix 2 : \\n\\n{matrix2.numpy()}\")\n",
        "print(f\"\\nAddition Using add function : \\n\\n{result_matrix.numpy()}\")\n",
        "print(f\"\\nAddition Using + operator : \\n\\n{result_matrix.numpy()}\")"
      ],
      "metadata": {
        "colab": {
          "base_uri": "https://localhost:8080/"
        },
        "id": "E4BRzyn55HFT",
        "outputId": "d415259b-4874-4fa0-bed1-0c3da2d94fa6"
      },
      "execution_count": 9,
      "outputs": [
        {
          "output_type": "stream",
          "name": "stdout",
          "text": [
            "Matrix 1 : \n",
            "\n",
            "[[1 2]\n",
            " [3 4]]\n",
            "\n",
            "Matrix 2 : \n",
            "\n",
            "[[5 6]\n",
            " [7 8]]\n",
            "\n",
            "Addition Using add function : \n",
            "\n",
            "[[ 6  8]\n",
            " [10 12]]\n",
            "\n",
            "Addition Using + operator : \n",
            "\n",
            "[[ 6  8]\n",
            " [10 12]]\n"
          ]
        }
      ]
    },
    {
      "cell_type": "code",
      "source": [
        "import tensorflow as tf\n",
        "\n",
        "# Create two matrices\n",
        "matrix1 = tf.constant([[1, 2], [3, 4]])\n",
        "matrix2 = tf.constant([[5, 6], [7, 8]])\n",
        "\n",
        "# Perform matrix multiplication\n",
        "result_matrix = tf.matmul(matrix1, matrix2)\n",
        "\n",
        "# Print the result\n",
        "print(f\"Matrix 1 : \\n\\n{matrix1.numpy()}\")\n",
        "print(f\"\\nMatrix 2 : \\n\\n{matrix2.numpy()}\")\n",
        "print(f\"\\nAddition Using add function : \\n\\n{result_matrix.numpy()}\")"
      ],
      "metadata": {
        "colab": {
          "base_uri": "https://localhost:8080/"
        },
        "id": "xGK9dg0N5Waz",
        "outputId": "e1a2f61a-76c4-4693-89b9-34ce92f40a23"
      },
      "execution_count": 10,
      "outputs": [
        {
          "output_type": "stream",
          "name": "stdout",
          "text": [
            "Matrix 1 : \n",
            "\n",
            "[[1 2]\n",
            " [3 4]]\n",
            "\n",
            "Matrix 2 : \n",
            "\n",
            "[[5 6]\n",
            " [7 8]]\n",
            "\n",
            "Addition Using add function : \n",
            "\n",
            "[[19 22]\n",
            " [43 50]]\n"
          ]
        }
      ]
    },
    {
      "cell_type": "code",
      "source": [
        "import tensorflow as tf\n",
        "\n",
        "# Create two tensors\n",
        "tensor1 = tf.constant([[1, 2],[3,4]])\n",
        "scaler = 2\n",
        "\n",
        "# Perform element-wise addition\n",
        "result_add = tf.add(tensor1,scaler)\n",
        "\n",
        "# Perform element-wise multiplication\n",
        "result_multiply = tf.multiply(tensor1, scaler)\n",
        "\n",
        "# Perform element-wise division\n",
        "result_div = tf.divide(tensor1, scaler)\n",
        "\n",
        "# Perform element-wise subraction\n",
        "result_subract = tf.subtract(tensor1, scaler)\n",
        "\n",
        "\n",
        "# Perform element-wise square\n",
        "result_square = tf.square(tensor1)\n",
        "\n",
        "\n",
        "# Print the result\n",
        "print(f\"Tensor 1 : \\n\\n{tensor1.numpy()}\")\n",
        "print(f\"\\nScaler : \\n\\n{scaler}\")\n",
        "print(f\"\\nElement Wise Addition with scaler : \\n\\n{result_add.numpy()}\")\n",
        "print(f\"\\nElement Wise Subraction with scaler : \\n\\n{result_subract.numpy()}\")\n",
        "print(f\"\\nElement Wise Multiplication with scaler : \\n\\n{result_multiply.numpy()}\")\n",
        "print(f\"\\nElement Wise Division with scaler : \\n\\n{result_div.numpy()}\")\n",
        "print(f\"\\nElement Wise Square : \\n\\n{result_square.numpy()}\")"
      ],
      "metadata": {
        "colab": {
          "base_uri": "https://localhost:8080/"
        },
        "id": "LFSLI4gN5Y0L",
        "outputId": "920445fd-75e5-44ee-a551-544d034ae321"
      },
      "execution_count": 11,
      "outputs": [
        {
          "output_type": "stream",
          "name": "stdout",
          "text": [
            "Tensor 1 : \n",
            "\n",
            "[[1 2]\n",
            " [3 4]]\n",
            "\n",
            "Scaler : \n",
            "\n",
            "2\n",
            "\n",
            "Element Wise Addition with scaler : \n",
            "\n",
            "[[3 4]\n",
            " [5 6]]\n",
            "\n",
            "Element Wise Subraction with scaler : \n",
            "\n",
            "[[-1  0]\n",
            " [ 1  2]]\n",
            "\n",
            "Element Wise Multiplication with scaler : \n",
            "\n",
            "[[2 4]\n",
            " [6 8]]\n",
            "\n",
            "Element Wise Division with scaler : \n",
            "\n",
            "[[0.5 1. ]\n",
            " [1.5 2. ]]\n",
            "\n",
            "Element Wise Square : \n",
            "\n",
            "[[ 1  4]\n",
            " [ 9 16]]\n"
          ]
        }
      ]
    },
    {
      "cell_type": "code",
      "source": [],
      "metadata": {
        "id": "CA_pZJsH5cmz"
      },
      "execution_count": null,
      "outputs": []
    },
    {
      "cell_type": "markdown",
      "source": [
        "# Practical Implementation"
      ],
      "metadata": {
        "id": "FgTUJIRD5fRv"
      }
    },
    {
      "cell_type": "markdown",
      "source": [
        "## Q4.  Create a normal matrix A with dimensions 3x3, using TensorFlow's random_normal function. Display the values of matrix A"
      ],
      "metadata": {
        "id": "Vdh-Sg1L5hpH"
      }
    },
    {
      "cell_type": "code",
      "source": [
        "import tensorflow as tf\n",
        "\n",
        "print(\"TensorFlow version: {}\".format(tf.__version__))"
      ],
      "metadata": {
        "colab": {
          "base_uri": "https://localhost:8080/"
        },
        "id": "C5zWks2S5f0a",
        "outputId": "dc64b57b-bcd8-4ffb-b2d1-5305be266870"
      },
      "execution_count": 12,
      "outputs": [
        {
          "output_type": "stream",
          "name": "stdout",
          "text": [
            "TensorFlow version: 2.17.1\n"
          ]
        }
      ]
    },
    {
      "cell_type": "code",
      "source": [
        "A = tf.random.normal([3,3],dtype = tf.float32,seed=42)\n",
        "print(f\"Matrix A : \\n\\n{A.numpy()}\")"
      ],
      "metadata": {
        "colab": {
          "base_uri": "https://localhost:8080/"
        },
        "id": "lSku1IqO5j1C",
        "outputId": "998c3210-d210-4b45-aa88-b2f5e35eba16"
      },
      "execution_count": 13,
      "outputs": [
        {
          "output_type": "stream",
          "name": "stdout",
          "text": [
            "Matrix A : \n",
            "\n",
            "[[-0.28077507 -0.1377521  -0.6763296 ]\n",
            " [ 0.02458041 -0.89358455 -0.82847327]\n",
            " [ 1.2068944   1.3810157  -1.4557977 ]]\n"
          ]
        }
      ]
    },
    {
      "cell_type": "code",
      "source": [],
      "metadata": {
        "id": "_dgBiVcn5lYi"
      },
      "execution_count": null,
      "outputs": []
    },
    {
      "cell_type": "markdown",
      "source": [
        "## 5. Create a Gaussian matrix B with dimensions 4x4, using TensorFlow's truncated_normal function. Display the values of matrix B"
      ],
      "metadata": {
        "id": "INwi6bFO5nou"
      }
    },
    {
      "cell_type": "code",
      "source": [
        "B = tf.random.truncated_normal(shape=[4,4], dtype=tf.float32,seed=42)\n",
        "print(f\"Matrix B : \\n\\n{B.numpy()}\")"
      ],
      "metadata": {
        "colab": {
          "base_uri": "https://localhost:8080/"
        },
        "id": "ezVQvYVQ5oTx",
        "outputId": "90bb53d2-4935-4b9c-dc35-8bde069c791a"
      },
      "execution_count": 14,
      "outputs": [
        {
          "output_type": "stream",
          "name": "stdout",
          "text": [
            "Matrix B : \n",
            "\n",
            "[[-0.28077507 -0.1377521  -0.6763296   0.02458041]\n",
            " [-0.46845472 -0.00246632 -0.9745911   0.6638492 ]\n",
            " [ 0.4368011  -0.7038976   0.6426843   1.4513893 ]\n",
            " [ 1.8412819  -0.15879929 -1.0607921   1.5984018 ]]\n"
          ]
        }
      ]
    },
    {
      "cell_type": "code",
      "source": [],
      "metadata": {
        "id": "wyu7F52e5qA6"
      },
      "execution_count": null,
      "outputs": []
    },
    {
      "cell_type": "markdown",
      "source": [
        "## Q6. Create a matrix C with dimensions 2x2, where the values are drawn from a normal distribution with a mean of 3 and a standard deviation of 0.5, using TensorFlow's random.normal function. Display the values of matrix C"
      ],
      "metadata": {
        "id": "uSokggER5sBG"
      }
    },
    {
      "cell_type": "code",
      "source": [
        "C = tf.random.normal([2,2],mean=3, stddev=0.5,dtype = tf.float32,seed=42)\n",
        "print(f\"Matrix C : \\n\\n{C.numpy()}\")"
      ],
      "metadata": {
        "colab": {
          "base_uri": "https://localhost:8080/"
        },
        "id": "yCfoHHy_5sn5",
        "outputId": "db8cbc9b-127b-47a7-ac8c-bca027658e6e"
      },
      "execution_count": 15,
      "outputs": [
        {
          "output_type": "stream",
          "name": "stdout",
          "text": [
            "Matrix C : \n",
            "\n",
            "[[3.609005  2.8007267]\n",
            " [3.3198366 2.6839418]]\n"
          ]
        }
      ]
    },
    {
      "cell_type": "code",
      "source": [],
      "metadata": {
        "id": "tCsjLmHa5uLa"
      },
      "execution_count": null,
      "outputs": []
    },
    {
      "cell_type": "markdown",
      "source": [
        "## Q7. Perform matrix addition between matrix A and matrix B, and store the result in matrix D"
      ],
      "metadata": {
        "id": "wsqqskRO5v8O"
      }
    },
    {
      "cell_type": "code",
      "source": [
        "#It is impossible to add A and B as A is 3X3 Matrix and B is 4X4 matrix\n",
        "#For Matrix Addition the shape of the Matrix should be Similiar\n",
        "#So reshaping A and B\n",
        "A = tf.random.normal([2,3],dtype = tf.float32,seed=42)\n",
        "B = tf.random.truncated_normal([2,3],dtype = tf.float32,seed=42)\n",
        "\n",
        "D = A+B\n",
        "print(f\"Matrix A : \\n\\n{A.numpy()}\")\n",
        "print(f\"\\nMatrix B : \\n\\n{B.numpy()}\")\n",
        "print(f\"\\nMatrix D : \\n\\n{D.numpy()}\")"
      ],
      "metadata": {
        "colab": {
          "base_uri": "https://localhost:8080/"
        },
        "id": "bF7lDRGt5wcx",
        "outputId": "cb0f5f35-1d81-4ad5-b133-03756570fea5"
      },
      "execution_count": 16,
      "outputs": [
        {
          "output_type": "stream",
          "name": "stdout",
          "text": [
            "Matrix A : \n",
            "\n",
            "[[ 1.4171269   0.806262   -0.6378367 ]\n",
            " [-0.59586287  0.9795361   0.86680996]]\n",
            "\n",
            "Matrix B : \n",
            "\n",
            "[[-0.18655936  0.21760897  0.1489197 ]\n",
            " [ 0.07509567  0.5019556   1.0746589 ]]\n",
            "\n",
            "Matrix D : \n",
            "\n",
            "[[ 1.2305676  1.023871  -0.488917 ]\n",
            " [-0.5207672  1.4814918  1.9414688]]\n"
          ]
        }
      ]
    },
    {
      "cell_type": "code",
      "source": [],
      "metadata": {
        "id": "JbXcayxr5zLi"
      },
      "execution_count": null,
      "outputs": []
    },
    {
      "cell_type": "markdown",
      "source": [
        "## Q8. Perform matrix multiplication between matrix C and matrix D, and store the result in matrix E."
      ],
      "metadata": {
        "id": "rWlY34sg51R9"
      }
    },
    {
      "cell_type": "code",
      "source": [
        "E = tf.matmul(C,D)\n",
        "print(f\"Matrix C : \\n\\n{C.numpy()}\")\n",
        "print(f\"\\nMatrix D : \\n\\n{D.numpy()}\")\n",
        "print(f\"\\nMatrix E : \\n\\n{E.numpy()}\")"
      ],
      "metadata": {
        "colab": {
          "base_uri": "https://localhost:8080/"
        },
        "id": "N2YjrfG8511Z",
        "outputId": "aa509ebc-39ec-4394-f020-45b11154414d"
      },
      "execution_count": 17,
      "outputs": [
        {
          "output_type": "stream",
          "name": "stdout",
          "text": [
            "Matrix C : \n",
            "\n",
            "[[3.609005  2.8007267]\n",
            " [3.3198366 2.6839418]]\n",
            "\n",
            "Matrix D : \n",
            "\n",
            "[[ 1.2305676  1.023871  -0.488917 ]\n",
            " [-0.5207672  1.4814918  1.9414688]]\n",
            "\n",
            "Matrix E : \n",
            "\n",
            "[[2.9825978 7.844409  3.6730194]\n",
            " [2.6875744 7.3753223 3.5876646]]\n"
          ]
        }
      ]
    },
    {
      "cell_type": "code",
      "source": [],
      "metadata": {
        "id": "RanWb5GB536J"
      },
      "execution_count": null,
      "outputs": []
    },
    {
      "cell_type": "markdown",
      "source": [
        "# Performing Additional Matrix Operations"
      ],
      "metadata": {
        "id": "ZbjYF6Qx55wN"
      }
    },
    {
      "cell_type": "code",
      "source": [],
      "metadata": {
        "id": "7kH_XDol56Sp"
      },
      "execution_count": null,
      "outputs": []
    },
    {
      "cell_type": "markdown",
      "source": [
        "## Q9. Create a matrix F with dimensions 3x3, initialized with random values using TensorFlow's random_uniform function"
      ],
      "metadata": {
        "id": "Sw66fagf58FF"
      }
    },
    {
      "cell_type": "code",
      "source": [
        "F = tf.random.uniform([3,3],dtype = tf.float32,seed=42)\n",
        "print(f\"Matrix F : \\n\\n{F.numpy()}\")"
      ],
      "metadata": {
        "colab": {
          "base_uri": "https://localhost:8080/"
        },
        "id": "N_NtzsQb58ng",
        "outputId": "0283e93e-0d97-4d7e-f2bd-05d9f12bd21c"
      },
      "execution_count": 18,
      "outputs": [
        {
          "output_type": "stream",
          "name": "stdout",
          "text": [
            "Matrix F : \n",
            "\n",
            "[[0.95227146 0.67740774 0.79531825]\n",
            " [0.75578177 0.4759556  0.6310148 ]\n",
            " [0.18602037 0.11430776 0.3362218 ]]\n"
          ]
        }
      ]
    },
    {
      "cell_type": "code",
      "source": [],
      "metadata": {
        "id": "eOl-BYBo5-Lx"
      },
      "execution_count": null,
      "outputs": []
    },
    {
      "cell_type": "markdown",
      "source": [
        "## Q10. Calculate the transpose of matrix F and store the result in matrix G"
      ],
      "metadata": {
        "id": "-LNytZbC6ACt"
      }
    },
    {
      "cell_type": "code",
      "source": [
        "G = tf.transpose(F)\n",
        "print(f\"Matrix F : \\n\\n{F.numpy()}\")\n",
        "print(f\"\\nMatrix G : \\n\\n{G.numpy()}\")"
      ],
      "metadata": {
        "colab": {
          "base_uri": "https://localhost:8080/"
        },
        "id": "9TiFuzYt6AmI",
        "outputId": "54e2651d-0f4b-4514-da94-d8f8e1432ee7"
      },
      "execution_count": 19,
      "outputs": [
        {
          "output_type": "stream",
          "name": "stdout",
          "text": [
            "Matrix F : \n",
            "\n",
            "[[0.95227146 0.67740774 0.79531825]\n",
            " [0.75578177 0.4759556  0.6310148 ]\n",
            " [0.18602037 0.11430776 0.3362218 ]]\n",
            "\n",
            "Matrix G : \n",
            "\n",
            "[[0.95227146 0.75578177 0.18602037]\n",
            " [0.67740774 0.4759556  0.11430776]\n",
            " [0.79531825 0.6310148  0.3362218 ]]\n"
          ]
        }
      ]
    },
    {
      "cell_type": "code",
      "source": [],
      "metadata": {
        "id": "37N4h6-e6CLY"
      },
      "execution_count": null,
      "outputs": []
    },
    {
      "cell_type": "markdown",
      "source": [
        "## Q11. Calculate the element-wise exponential of matrix F and store the result in matrix H"
      ],
      "metadata": {
        "id": "-jknatRW6EKd"
      }
    },
    {
      "cell_type": "code",
      "source": [
        "H = tf.exp(F)\n",
        "print(f\"Matrix F : \\n\\n{F.numpy()}\")\n",
        "print(f\"\\nMatrix H : \\n\\n{H.numpy()}\")"
      ],
      "metadata": {
        "colab": {
          "base_uri": "https://localhost:8080/"
        },
        "id": "OXCMEUX86Eux",
        "outputId": "3c46a2ad-0eca-4c0a-aa17-a9fa5b0210e4"
      },
      "execution_count": 20,
      "outputs": [
        {
          "output_type": "stream",
          "name": "stdout",
          "text": [
            "Matrix F : \n",
            "\n",
            "[[0.95227146 0.67740774 0.79531825]\n",
            " [0.75578177 0.4759556  0.6310148 ]\n",
            " [0.18602037 0.11430776 0.3362218 ]]\n",
            "\n",
            "Matrix H : \n",
            "\n",
            "[[2.5915897 1.9687675 2.2151458]\n",
            " [2.1292756 1.6095515 1.879517 ]\n",
            " [1.2044468 1.1210971 1.3996495]]\n"
          ]
        }
      ]
    },
    {
      "cell_type": "code",
      "source": [],
      "metadata": {
        "id": "rn5dG9ux6GNo"
      },
      "execution_count": null,
      "outputs": []
    },
    {
      "cell_type": "markdown",
      "source": [
        "## Q12. Create a matrix I by concatenating matrix F and matrix G horizontally"
      ],
      "metadata": {
        "id": "qcsmjI496JVF"
      }
    },
    {
      "cell_type": "code",
      "source": [
        "I= tf.concat([F,G],axis=0)\n",
        "print(f\"Matrix F : \\n\\n{F.numpy()}\")\n",
        "print(f\"\\nMatrix G : \\n\\n{G.numpy()}\")\n",
        "print(f\"\\nMatrix I : \\n\\n{I.numpy()}\")"
      ],
      "metadata": {
        "colab": {
          "base_uri": "https://localhost:8080/"
        },
        "id": "r5bbc7gt6J2p",
        "outputId": "1f0a9864-439d-4aa2-bc5e-3070b5e89a79"
      },
      "execution_count": 21,
      "outputs": [
        {
          "output_type": "stream",
          "name": "stdout",
          "text": [
            "Matrix F : \n",
            "\n",
            "[[0.95227146 0.67740774 0.79531825]\n",
            " [0.75578177 0.4759556  0.6310148 ]\n",
            " [0.18602037 0.11430776 0.3362218 ]]\n",
            "\n",
            "Matrix G : \n",
            "\n",
            "[[0.95227146 0.75578177 0.18602037]\n",
            " [0.67740774 0.4759556  0.11430776]\n",
            " [0.79531825 0.6310148  0.3362218 ]]\n",
            "\n",
            "Matrix I : \n",
            "\n",
            "[[0.95227146 0.67740774 0.79531825]\n",
            " [0.75578177 0.4759556  0.6310148 ]\n",
            " [0.18602037 0.11430776 0.3362218 ]\n",
            " [0.95227146 0.75578177 0.18602037]\n",
            " [0.67740774 0.4759556  0.11430776]\n",
            " [0.79531825 0.6310148  0.3362218 ]]\n"
          ]
        }
      ]
    },
    {
      "cell_type": "code",
      "source": [],
      "metadata": {
        "id": "_Zt-tWGF6LaY"
      },
      "execution_count": null,
      "outputs": []
    },
    {
      "cell_type": "markdown",
      "source": [
        "## Q13. Create a matrix J by concatenating matrix F and matrix H vertically."
      ],
      "metadata": {
        "id": "IMPXcMvl6NfV"
      }
    },
    {
      "cell_type": "code",
      "source": [
        "J= tf.concat([F,H],axis=1)\n",
        "print(f\"Matrix F : \\n\\n{F.numpy()}\")\n",
        "print(f\"\\nMatrix H : \\n\\n{H.numpy()}\")\n",
        "print(f\"\\nMatrix J : \\n\\n{J.numpy()}\")"
      ],
      "metadata": {
        "colab": {
          "base_uri": "https://localhost:8080/"
        },
        "id": "OBz-fJyB6OB4",
        "outputId": "4152cbda-091b-4e92-b0bf-b1de63c2365e"
      },
      "execution_count": 22,
      "outputs": [
        {
          "output_type": "stream",
          "name": "stdout",
          "text": [
            "Matrix F : \n",
            "\n",
            "[[0.95227146 0.67740774 0.79531825]\n",
            " [0.75578177 0.4759556  0.6310148 ]\n",
            " [0.18602037 0.11430776 0.3362218 ]]\n",
            "\n",
            "Matrix H : \n",
            "\n",
            "[[2.5915897 1.9687675 2.2151458]\n",
            " [2.1292756 1.6095515 1.879517 ]\n",
            " [1.2044468 1.1210971 1.3996495]]\n",
            "\n",
            "Matrix J : \n",
            "\n",
            "[[0.95227146 0.67740774 0.79531825 2.5915897  1.9687675  2.2151458 ]\n",
            " [0.75578177 0.4759556  0.6310148  2.1292756  1.6095515  1.879517  ]\n",
            " [0.18602037 0.11430776 0.3362218  1.2044468  1.1210971  1.3996495 ]]\n"
          ]
        }
      ]
    },
    {
      "cell_type": "code",
      "source": [],
      "metadata": {
        "id": "HZ8GvFRP6PkI"
      },
      "execution_count": null,
      "outputs": []
    }
  ]
}